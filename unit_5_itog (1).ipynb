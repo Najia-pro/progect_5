{
 "cells": [
  {
   "cell_type": "markdown",
   "metadata": {},
   "source": [
    "## Юнит 5. Компьютер говорит нет"
   ]
  },
  {
   "cell_type": "code",
   "execution_count": 1,
   "metadata": {},
   "outputs": [],
   "source": [
    "import pandas as pd\n",
    "from datetime import datetime\n",
    "\n",
    "from sklearn.tree import DecisionTreeClassifier\n",
    "from sklearn.model_selection import train_test_split\n",
    "from sklearn.metrics import f1_score, accuracy_score\n",
    "from sklearn import preprocessing\n",
    "\n",
    "from pandas import Series\n",
    "import pandas as pd\n",
    "import numpy as np\n",
    "\n",
    "import matplotlib.pyplot as plt\n",
    "import seaborn as sns\n",
    "\n",
    "from sklearn.feature_selection import f_classif, mutual_info_classif\n",
    "from sklearn.preprocessing import LabelEncoder, OneHotEncoder, StandardScaler\n",
    "from sklearn.preprocessing import PolynomialFeatures\n",
    "\n",
    "from sklearn.model_selection import train_test_split\n",
    "from sklearn.linear_model import LogisticRegression\n",
    "\n",
    "from sklearn.model_selection import GridSearchCV\n",
    "\n",
    "from sklearn.metrics import confusion_matrix\n",
    "from sklearn.metrics import auc, roc_auc_score, roc_curve"
   ]
  },
  {
   "cell_type": "markdown",
   "metadata": {},
   "source": [
    "## Получение данных, их анализ"
   ]
  },
  {
   "cell_type": "code",
   "execution_count": 2,
   "metadata": {},
   "outputs": [],
   "source": [
    "# получение данных\n",
    "data_train = pd.read_csv('train.csv')\n",
    "data_test = pd.read_csv('test.csv')\n",
    "sample = pd.read_csv('sample_submission.csv')"
   ]
  },
  {
   "cell_type": "code",
   "execution_count": 3,
   "metadata": {},
   "outputs": [
    {
     "data": {
      "text/plain": [
       "(73799, 19)"
      ]
     },
     "execution_count": 3,
     "metadata": {},
     "output_type": "execute_result"
    }
   ],
   "source": [
    "data_train.shape"
   ]
  },
  {
   "cell_type": "code",
   "execution_count": 4,
   "metadata": {},
   "outputs": [
    {
     "data": {
      "text/plain": [
       "(36349, 18)"
      ]
     },
     "execution_count": 4,
     "metadata": {},
     "output_type": "execute_result"
    }
   ],
   "source": [
    "data_test.shape"
   ]
  },
  {
   "cell_type": "code",
   "execution_count": 5,
   "metadata": {},
   "outputs": [
    {
     "data": {
      "text/plain": [
       "(36349, 2)"
      ]
     },
     "execution_count": 5,
     "metadata": {},
     "output_type": "execute_result"
    }
   ],
   "source": [
    "sample.shape"
   ]
  },
  {
   "cell_type": "code",
   "execution_count": 6,
   "metadata": {},
   "outputs": [],
   "source": [
    "data_train['sample'] = 1  # помечаем где у нас трейн\n",
    "data_test['sample'] = 0  # помечаем где у нас тест\n",
    "# в тесте у нас нет значения Default, чтобы не путать с 1 и 0 поставим -1\n",
    "data_test['default'] = -1\n",
    "\n",
    "df = data_test.append(data_train, sort=False).reset_index(\n",
    "    drop=True)  # объединяем"
   ]
  },
  {
   "cell_type": "code",
   "execution_count": 7,
   "metadata": {},
   "outputs": [
    {
     "data": {
      "text/html": [
       "<div>\n",
       "<style scoped>\n",
       "    .dataframe tbody tr th:only-of-type {\n",
       "        vertical-align: middle;\n",
       "    }\n",
       "\n",
       "    .dataframe tbody tr th {\n",
       "        vertical-align: top;\n",
       "    }\n",
       "\n",
       "    .dataframe thead th {\n",
       "        text-align: right;\n",
       "    }\n",
       "</style>\n",
       "<table border=\"1\" class=\"dataframe\">\n",
       "  <thead>\n",
       "    <tr style=\"text-align: right;\">\n",
       "      <th></th>\n",
       "      <th>client_id</th>\n",
       "      <th>app_date</th>\n",
       "      <th>education</th>\n",
       "      <th>sex</th>\n",
       "      <th>age</th>\n",
       "      <th>car</th>\n",
       "      <th>car_type</th>\n",
       "      <th>decline_app_cnt</th>\n",
       "      <th>good_work</th>\n",
       "      <th>score_bki</th>\n",
       "      <th>bki_request_cnt</th>\n",
       "      <th>region_rating</th>\n",
       "      <th>home_address</th>\n",
       "      <th>work_address</th>\n",
       "      <th>income</th>\n",
       "      <th>sna</th>\n",
       "      <th>first_time</th>\n",
       "      <th>foreign_passport</th>\n",
       "      <th>sample</th>\n",
       "      <th>default</th>\n",
       "    </tr>\n",
       "  </thead>\n",
       "  <tbody>\n",
       "    <tr>\n",
       "      <th>0</th>\n",
       "      <td>74835</td>\n",
       "      <td>22MAR2014</td>\n",
       "      <td>GRD</td>\n",
       "      <td>M</td>\n",
       "      <td>29</td>\n",
       "      <td>Y</td>\n",
       "      <td>Y</td>\n",
       "      <td>0</td>\n",
       "      <td>0</td>\n",
       "      <td>-2.271884</td>\n",
       "      <td>3</td>\n",
       "      <td>50</td>\n",
       "      <td>1</td>\n",
       "      <td>2</td>\n",
       "      <td>50000</td>\n",
       "      <td>1</td>\n",
       "      <td>4</td>\n",
       "      <td>N</td>\n",
       "      <td>0</td>\n",
       "      <td>-1</td>\n",
       "    </tr>\n",
       "    <tr>\n",
       "      <th>1</th>\n",
       "      <td>17527</td>\n",
       "      <td>24JAN2014</td>\n",
       "      <td>SCH</td>\n",
       "      <td>F</td>\n",
       "      <td>39</td>\n",
       "      <td>N</td>\n",
       "      <td>N</td>\n",
       "      <td>5</td>\n",
       "      <td>0</td>\n",
       "      <td>-1.504999</td>\n",
       "      <td>2</td>\n",
       "      <td>50</td>\n",
       "      <td>1</td>\n",
       "      <td>2</td>\n",
       "      <td>5000</td>\n",
       "      <td>4</td>\n",
       "      <td>3</td>\n",
       "      <td>N</td>\n",
       "      <td>0</td>\n",
       "      <td>-1</td>\n",
       "    </tr>\n",
       "    <tr>\n",
       "      <th>2</th>\n",
       "      <td>75683</td>\n",
       "      <td>23MAR2014</td>\n",
       "      <td>UGR</td>\n",
       "      <td>M</td>\n",
       "      <td>50</td>\n",
       "      <td>Y</td>\n",
       "      <td>Y</td>\n",
       "      <td>0</td>\n",
       "      <td>0</td>\n",
       "      <td>-1.691339</td>\n",
       "      <td>1</td>\n",
       "      <td>50</td>\n",
       "      <td>1</td>\n",
       "      <td>2</td>\n",
       "      <td>30000</td>\n",
       "      <td>1</td>\n",
       "      <td>3</td>\n",
       "      <td>Y</td>\n",
       "      <td>0</td>\n",
       "      <td>-1</td>\n",
       "    </tr>\n",
       "    <tr>\n",
       "      <th>3</th>\n",
       "      <td>26883</td>\n",
       "      <td>03FEB2014</td>\n",
       "      <td>SCH</td>\n",
       "      <td>M</td>\n",
       "      <td>56</td>\n",
       "      <td>N</td>\n",
       "      <td>N</td>\n",
       "      <td>0</td>\n",
       "      <td>0</td>\n",
       "      <td>-2.374182</td>\n",
       "      <td>1</td>\n",
       "      <td>40</td>\n",
       "      <td>1</td>\n",
       "      <td>2</td>\n",
       "      <td>17000</td>\n",
       "      <td>1</td>\n",
       "      <td>3</td>\n",
       "      <td>N</td>\n",
       "      <td>0</td>\n",
       "      <td>-1</td>\n",
       "    </tr>\n",
       "    <tr>\n",
       "      <th>4</th>\n",
       "      <td>28862</td>\n",
       "      <td>04FEB2014</td>\n",
       "      <td>GRD</td>\n",
       "      <td>F</td>\n",
       "      <td>38</td>\n",
       "      <td>N</td>\n",
       "      <td>N</td>\n",
       "      <td>0</td>\n",
       "      <td>0</td>\n",
       "      <td>-2.487502</td>\n",
       "      <td>0</td>\n",
       "      <td>80</td>\n",
       "      <td>2</td>\n",
       "      <td>3</td>\n",
       "      <td>120000</td>\n",
       "      <td>1</td>\n",
       "      <td>3</td>\n",
       "      <td>N</td>\n",
       "      <td>0</td>\n",
       "      <td>-1</td>\n",
       "    </tr>\n",
       "  </tbody>\n",
       "</table>\n",
       "</div>"
      ],
      "text/plain": [
       "   client_id   app_date education sex  age car car_type  decline_app_cnt  \\\n",
       "0      74835  22MAR2014       GRD   M   29   Y        Y                0   \n",
       "1      17527  24JAN2014       SCH   F   39   N        N                5   \n",
       "2      75683  23MAR2014       UGR   M   50   Y        Y                0   \n",
       "3      26883  03FEB2014       SCH   M   56   N        N                0   \n",
       "4      28862  04FEB2014       GRD   F   38   N        N                0   \n",
       "\n",
       "   good_work  score_bki  bki_request_cnt  region_rating  home_address  \\\n",
       "0          0  -2.271884                3             50             1   \n",
       "1          0  -1.504999                2             50             1   \n",
       "2          0  -1.691339                1             50             1   \n",
       "3          0  -2.374182                1             40             1   \n",
       "4          0  -2.487502                0             80             2   \n",
       "\n",
       "   work_address  income  sna  first_time foreign_passport  sample  default  \n",
       "0             2   50000    1           4                N       0       -1  \n",
       "1             2    5000    4           3                N       0       -1  \n",
       "2             2   30000    1           3                Y       0       -1  \n",
       "3             2   17000    1           3                N       0       -1  \n",
       "4             3  120000    1           3                N       0       -1  "
      ]
     },
     "execution_count": 7,
     "metadata": {},
     "output_type": "execute_result"
    }
   ],
   "source": [
    "df.head()"
   ]
  },
  {
   "cell_type": "code",
   "execution_count": 8,
   "metadata": {},
   "outputs": [
    {
     "data": {
      "text/plain": [
       "(110148, 20)"
      ]
     },
     "execution_count": 8,
     "metadata": {},
     "output_type": "execute_result"
    }
   ],
   "source": [
    "df.shape"
   ]
  },
  {
   "cell_type": "code",
   "execution_count": 9,
   "metadata": {},
   "outputs": [
    {
     "name": "stdout",
     "output_type": "stream",
     "text": [
      "<class 'pandas.core.frame.DataFrame'>\n",
      "RangeIndex: 110148 entries, 0 to 110147\n",
      "Data columns (total 20 columns):\n",
      " #   Column            Non-Null Count   Dtype  \n",
      "---  ------            --------------   -----  \n",
      " 0   client_id         110148 non-null  int64  \n",
      " 1   app_date          110148 non-null  object \n",
      " 2   education         109670 non-null  object \n",
      " 3   sex               110148 non-null  object \n",
      " 4   age               110148 non-null  int64  \n",
      " 5   car               110148 non-null  object \n",
      " 6   car_type          110148 non-null  object \n",
      " 7   decline_app_cnt   110148 non-null  int64  \n",
      " 8   good_work         110148 non-null  int64  \n",
      " 9   score_bki         110148 non-null  float64\n",
      " 10  bki_request_cnt   110148 non-null  int64  \n",
      " 11  region_rating     110148 non-null  int64  \n",
      " 12  home_address      110148 non-null  int64  \n",
      " 13  work_address      110148 non-null  int64  \n",
      " 14  income            110148 non-null  int64  \n",
      " 15  sna               110148 non-null  int64  \n",
      " 16  first_time        110148 non-null  int64  \n",
      " 17  foreign_passport  110148 non-null  object \n",
      " 18  sample            110148 non-null  int64  \n",
      " 19  default           110148 non-null  int64  \n",
      "dtypes: float64(1), int64(13), object(6)\n",
      "memory usage: 16.8+ MB\n"
     ]
    }
   ],
   "source": [
    "df.info()"
   ]
  },
  {
   "cell_type": "markdown",
   "metadata": {},
   "source": [
    "## Предобработка данных"
   ]
  },
  {
   "cell_type": "code",
   "execution_count": 10,
   "metadata": {},
   "outputs": [
    {
     "data": {
      "text/plain": [
       "client_id             0\n",
       "app_date              0\n",
       "education           478\n",
       "sex                   0\n",
       "age                   0\n",
       "car                   0\n",
       "car_type              0\n",
       "decline_app_cnt       0\n",
       "good_work             0\n",
       "score_bki             0\n",
       "bki_request_cnt       0\n",
       "region_rating         0\n",
       "home_address          0\n",
       "work_address          0\n",
       "income                0\n",
       "sna                   0\n",
       "first_time            0\n",
       "foreign_passport      0\n",
       "sample                0\n",
       "default               0\n",
       "dtype: int64"
      ]
     },
     "execution_count": 10,
     "metadata": {},
     "output_type": "execute_result"
    }
   ],
   "source": [
    "df.isnull().sum()"
   ]
  },
  {
   "cell_type": "code",
   "execution_count": 11,
   "metadata": {},
   "outputs": [
    {
     "data": {
      "text/plain": [
       "SCH    57998\n",
       "GRD    34768\n",
       "UGR    14748\n",
       "PGR     1865\n",
       "ACD      291\n",
       "Name: education, dtype: int64"
      ]
     },
     "execution_count": 11,
     "metadata": {},
     "output_type": "execute_result"
    }
   ],
   "source": [
    "# рассмотрим поле education, чтобы заполнить пробелы\n",
    "df.education.value_counts()"
   ]
  },
  {
   "cell_type": "code",
   "execution_count": 12,
   "metadata": {},
   "outputs": [],
   "source": [
    "# заполняем пустоты в education большинством - SCH\n",
    "df.education = df.education.fillna('SCH')"
   ]
  },
  {
   "cell_type": "code",
   "execution_count": 13,
   "metadata": {},
   "outputs": [
    {
     "data": {
      "text/plain": [
       "numpy.int64"
      ]
     },
     "execution_count": 13,
     "metadata": {},
     "output_type": "execute_result"
    }
   ],
   "source": [
    "# преобразуем поле дат в числовое значение - число дней от сегодняшнего дня\n",
    "df.app_date = pd.to_datetime(df.app_date)\n",
    "current_day = df.app_date.max()\n",
    "df['days'] = (current_day - df.app_date).dt.days\n",
    "type(df.loc[0,'days'])"
   ]
  },
  {
   "cell_type": "code",
   "execution_count": 14,
   "metadata": {},
   "outputs": [],
   "source": [
    "# обозначение для себя полей количественных и категориальных или биноминальных\n",
    "col_bin = ['sex', 'car', 'car_type', 'good_work', 'foreign_passport']\n",
    "col_num = ['days','age', 'decline_app_cnt', 'score_bki', 'bki_request_cnt', 'income']\n",
    "col_cat = ['education', 'home_address', 'work_address', 'sna', 'first_time',\n",
    "    'region_rating']"
   ]
  },
  {
   "cell_type": "markdown",
   "metadata": {},
   "source": [
    "## Изучение и преобразование численных переменных"
   ]
  },
  {
   "cell_type": "code",
   "execution_count": 15,
   "metadata": {},
   "outputs": [
    {
     "data": {
      "text/plain": [
       "<AxesSubplot:xlabel='score_bki', ylabel='Count'>"
      ]
     },
     "execution_count": 15,
     "metadata": {},
     "output_type": "execute_result"
    },
    {
     "data": {
      "image/png": "[encoded data removed]",
      "text/plain": [
       "<Figure size 432x288 with 1 Axes>"
      ]
     },
     "metadata": {
      "needs_background": "light"
     },
     "output_type": "display_data"
    }
   ],
   "source": [
    "# рассмотрим распределение по полю score_bki\n",
    "sns.histplot(df.score_bki)"
   ]
  },
  {
   "cell_type": "markdown",
   "metadata": {},
   "source": [
    "распределение - нормальное"
   ]
  },
  {
   "cell_type": "code",
   "execution_count": 16,
   "metadata": {},
   "outputs": [
    {
     "data": {
      "text/plain": [
       "<AxesSubplot:xlabel='age', ylabel='Count'>"
      ]
     },
     "execution_count": 16,
     "metadata": {},
     "output_type": "execute_result"
    },
    {
     "data": {
      "image/png": "[encoded data removed]",
      "text/plain": [
       "<Figure size 432x288 with 1 Axes>"
      ]
     },
     "metadata": {
      "needs_background": "light"
     },
     "output_type": "display_data"
    }
   ],
   "source": [
    "# рассмотрим распределение по полю age\n",
    "sns.histplot(df.age)"
   ]
  },
  {
   "cell_type": "code",
   "execution_count": 17,
   "metadata": {},
   "outputs": [
    {
     "data": {
      "text/plain": [
       "<AxesSubplot:xlabel='decline_app_cnt', ylabel='Count'>"
      ]
     },
     "execution_count": 17,
     "metadata": {},
     "output_type": "execute_result"
    },
    {
     "data": {
      "image/png": "[encoded data removed]",
      "text/plain": [
       "<Figure size 432x288 with 1 Axes>"
      ]
     },
     "metadata": {
      "needs_background": "light"
     },
     "output_type": "display_data"
    }
   ],
   "source": [
    "# рассмотрим распределение по полю age\n",
    "sns.histplot(df.decline_app_cnt)"
   ]
  },
  {
   "cell_type": "code",
   "execution_count": 18,
   "metadata": {},
   "outputs": [
    {
     "data": {
      "text/plain": [
       "<AxesSubplot:xlabel='bki_request_cnt', ylabel='Count'>"
      ]
     },
     "execution_count": 18,
     "metadata": {},
     "output_type": "execute_result"
    },
    {
     "data": {
      "image/png": "[encoded data removed]",
      "text/plain": [
       "<Figure size 432x288 with 1 Axes>"
      ]
     },
     "metadata": {
      "needs_background": "light"
     },
     "output_type": "display_data"
    }
   ],
   "source": [
    "sns.histplot(df.bki_request_cnt)"
   ]
  },
  {
   "cell_type": "code",
   "execution_count": 19,
   "metadata": {},
   "outputs": [
    {
     "data": {
      "text/plain": [
       "<AxesSubplot:xlabel='days', ylabel='Count'>"
      ]
     },
     "execution_count": 19,
     "metadata": {},
     "output_type": "execute_result"
    },
    {
     "data": {
      "image/png": "[encoded data removed]",
      "text/plain": [
       "<Figure size 432x288 with 1 Axes>"
      ]
     },
     "metadata": {
      "needs_background": "light"
     },
     "output_type": "display_data"
    }
   ],
   "source": [
    "sns.histplot(df.days)"
   ]
  },
  {
   "cell_type": "code",
   "execution_count": 20,
   "metadata": {},
   "outputs": [
    {
     "data": {
      "text/plain": [
       "<AxesSubplot:xlabel='income', ylabel='Count'>"
      ]
     },
     "execution_count": 20,
     "metadata": {},
     "output_type": "execute_result"
    },
    {
     "data": {
      "image/png": "[encoded data removed]",
      "text/plain": [
       "<Figure size 432x288 with 1 Axes>"
      ]
     },
     "metadata": {
      "needs_background": "light"
     },
     "output_type": "display_data"
    }
   ],
   "source": [
    "sns.histplot(df.income)"
   ]
  },
  {
   "cell_type": "code",
   "execution_count": 21,
   "metadata": {},
   "outputs": [],
   "source": [
    "df.loc[:,'pr1']=df.loc[:,'age']*(df.loc[:,'score_bki']+5)*df.loc[:,'income']\n",
    "df.loc[:,'pr2']=df.loc[:,'days']*(df.loc[:,'score_bki'])*df.loc[:,'first_time']"
   ]
  },
  {
   "cell_type": "code",
   "execution_count": 22,
   "metadata": {},
   "outputs": [
    {
     "data": {
      "text/plain": [
       "<AxesSubplot:xlabel='pr1', ylabel='Count'>"
      ]
     },
     "execution_count": 22,
     "metadata": {},
     "output_type": "execute_result"
    },
    {
     "data": {
      "image/png": "[encoded data removed]",
      "text/plain": [
       "<Figure size 432x288 with 1 Axes>"
      ]
     },
     "metadata": {
      "needs_background": "light"
     },
     "output_type": "display_data"
    }
   ],
   "source": [
    "sns.histplot(df.pr1)"
   ]
  },
  {
   "cell_type": "code",
   "execution_count": 23,
   "metadata": {},
   "outputs": [
    {
     "data": {
      "text/plain": [
       "<AxesSubplot:xlabel='pr2', ylabel='Count'>"
      ]
     },
     "execution_count": 23,
     "metadata": {},
     "output_type": "execute_result"
    },
    {
     "data": {
      "image/png": "[encoded data removed]",
      "text/plain": [
       "<Figure size 432x288 with 1 Axes>"
      ]
     },
     "metadata": {
      "needs_background": "light"
     },
     "output_type": "display_data"
    }
   ],
   "source": [
    "sns.histplot(df.pr2)"
   ]
  },
  {
   "cell_type": "code",
   "execution_count": 24,
   "metadata": {},
   "outputs": [
    {
     "data": {
      "text/html": [
       "<div>\n",
       "<style scoped>\n",
       "    .dataframe tbody tr th:only-of-type {\n",
       "        vertical-align: middle;\n",
       "    }\n",
       "\n",
       "    .dataframe tbody tr th {\n",
       "        vertical-align: top;\n",
       "    }\n",
       "\n",
       "    .dataframe thead th {\n",
       "        text-align: right;\n",
       "    }\n",
       "</style>\n",
       "<table border=\"1\" class=\"dataframe\">\n",
       "  <thead>\n",
       "    <tr style=\"text-align: right;\">\n",
       "      <th></th>\n",
       "      <th>client_id</th>\n",
       "      <th>age</th>\n",
       "      <th>decline_app_cnt</th>\n",
       "      <th>good_work</th>\n",
       "      <th>score_bki</th>\n",
       "      <th>bki_request_cnt</th>\n",
       "      <th>region_rating</th>\n",
       "      <th>home_address</th>\n",
       "      <th>work_address</th>\n",
       "      <th>income</th>\n",
       "      <th>sna</th>\n",
       "      <th>first_time</th>\n",
       "      <th>sample</th>\n",
       "      <th>default</th>\n",
       "      <th>days</th>\n",
       "      <th>pr1</th>\n",
       "      <th>pr2</th>\n",
       "    </tr>\n",
       "  </thead>\n",
       "  <tbody>\n",
       "    <tr>\n",
       "      <th>count</th>\n",
       "      <td>110148.000000</td>\n",
       "      <td>110148.000000</td>\n",
       "      <td>110148.000000</td>\n",
       "      <td>110148.000000</td>\n",
       "      <td>110148.000000</td>\n",
       "      <td>110148.000000</td>\n",
       "      <td>110148.000000</td>\n",
       "      <td>110148.000000</td>\n",
       "      <td>110148.000000</td>\n",
       "      <td>110148.000000</td>\n",
       "      <td>110148.000000</td>\n",
       "      <td>110148.000000</td>\n",
       "      <td>110148.000000</td>\n",
       "      <td>110148.000000</td>\n",
       "      <td>110148.000000</td>\n",
       "      <td>1.101480e+05</td>\n",
       "      <td>110148.000000</td>\n",
       "    </tr>\n",
       "    <tr>\n",
       "      <th>mean</th>\n",
       "      <td>55074.500000</td>\n",
       "      <td>39.249410</td>\n",
       "      <td>0.273205</td>\n",
       "      <td>0.165514</td>\n",
       "      <td>-1.904535</td>\n",
       "      <td>2.005002</td>\n",
       "      <td>56.751189</td>\n",
       "      <td>1.574945</td>\n",
       "      <td>2.497867</td>\n",
       "      <td>41012.648537</td>\n",
       "      <td>1.731588</td>\n",
       "      <td>2.765570</td>\n",
       "      <td>0.669999</td>\n",
       "      <td>-0.244916</td>\n",
       "      <td>58.028534</td>\n",
       "      <td>4.919718e+06</td>\n",
       "      <td>-303.826802</td>\n",
       "    </tr>\n",
       "    <tr>\n",
       "      <th>std</th>\n",
       "      <td>31797.133063</td>\n",
       "      <td>11.518063</td>\n",
       "      <td>0.799099</td>\n",
       "      <td>0.371645</td>\n",
       "      <td>0.499397</td>\n",
       "      <td>2.266926</td>\n",
       "      <td>13.065923</td>\n",
       "      <td>0.527562</td>\n",
       "      <td>0.687651</td>\n",
       "      <td>45399.735051</td>\n",
       "      <td>1.122652</td>\n",
       "      <td>1.010151</td>\n",
       "      <td>0.470215</td>\n",
       "      <td>0.595908</td>\n",
       "      <td>32.076078</td>\n",
       "      <td>6.208123e+06</td>\n",
       "      <td>232.347142</td>\n",
       "    </tr>\n",
       "    <tr>\n",
       "      <th>min</th>\n",
       "      <td>1.000000</td>\n",
       "      <td>21.000000</td>\n",
       "      <td>0.000000</td>\n",
       "      <td>0.000000</td>\n",
       "      <td>-3.624586</td>\n",
       "      <td>0.000000</td>\n",
       "      <td>20.000000</td>\n",
       "      <td>1.000000</td>\n",
       "      <td>1.000000</td>\n",
       "      <td>1000.000000</td>\n",
       "      <td>1.000000</td>\n",
       "      <td>1.000000</td>\n",
       "      <td>0.000000</td>\n",
       "      <td>-1.000000</td>\n",
       "      <td>0.000000</td>\n",
       "      <td>6.866602e+04</td>\n",
       "      <td>-1549.978371</td>\n",
       "    </tr>\n",
       "    <tr>\n",
       "      <th>25%</th>\n",
       "      <td>27537.750000</td>\n",
       "      <td>30.000000</td>\n",
       "      <td>0.000000</td>\n",
       "      <td>0.000000</td>\n",
       "      <td>-2.260434</td>\n",
       "      <td>0.000000</td>\n",
       "      <td>50.000000</td>\n",
       "      <td>1.000000</td>\n",
       "      <td>2.000000</td>\n",
       "      <td>20000.000000</td>\n",
       "      <td>1.000000</td>\n",
       "      <td>2.000000</td>\n",
       "      <td>0.000000</td>\n",
       "      <td>-1.000000</td>\n",
       "      <td>30.000000</td>\n",
       "      <td>2.194018e+06</td>\n",
       "      <td>-441.731510</td>\n",
       "    </tr>\n",
       "    <tr>\n",
       "      <th>50%</th>\n",
       "      <td>55074.500000</td>\n",
       "      <td>37.000000</td>\n",
       "      <td>0.000000</td>\n",
       "      <td>0.000000</td>\n",
       "      <td>-1.920823</td>\n",
       "      <td>1.000000</td>\n",
       "      <td>50.000000</td>\n",
       "      <td>2.000000</td>\n",
       "      <td>3.000000</td>\n",
       "      <td>30000.000000</td>\n",
       "      <td>1.000000</td>\n",
       "      <td>3.000000</td>\n",
       "      <td>1.000000</td>\n",
       "      <td>0.000000</td>\n",
       "      <td>57.000000</td>\n",
       "      <td>3.429216e+06</td>\n",
       "      <td>-246.771518</td>\n",
       "    </tr>\n",
       "    <tr>\n",
       "      <th>75%</th>\n",
       "      <td>82611.250000</td>\n",
       "      <td>48.000000</td>\n",
       "      <td>0.000000</td>\n",
       "      <td>0.000000</td>\n",
       "      <td>-1.567888</td>\n",
       "      <td>3.000000</td>\n",
       "      <td>60.000000</td>\n",
       "      <td>2.000000</td>\n",
       "      <td>3.000000</td>\n",
       "      <td>48000.000000</td>\n",
       "      <td>2.000000</td>\n",
       "      <td>4.000000</td>\n",
       "      <td>1.000000</td>\n",
       "      <td>0.000000</td>\n",
       "      <td>86.000000</td>\n",
       "      <td>5.538766e+06</td>\n",
       "      <td>-119.920777</td>\n",
       "    </tr>\n",
       "    <tr>\n",
       "      <th>max</th>\n",
       "      <td>110148.000000</td>\n",
       "      <td>72.000000</td>\n",
       "      <td>33.000000</td>\n",
       "      <td>1.000000</td>\n",
       "      <td>0.199773</td>\n",
       "      <td>53.000000</td>\n",
       "      <td>80.000000</td>\n",
       "      <td>3.000000</td>\n",
       "      <td>3.000000</td>\n",
       "      <td>1000000.000000</td>\n",
       "      <td>4.000000</td>\n",
       "      <td>4.000000</td>\n",
       "      <td>1.000000</td>\n",
       "      <td>1.000000</td>\n",
       "      <td>119.000000</td>\n",
       "      <td>2.138392e+08</td>\n",
       "      <td>66.551486</td>\n",
       "    </tr>\n",
       "  </tbody>\n",
       "</table>\n",
       "</div>"
      ],
      "text/plain": [
       "           client_id            age  decline_app_cnt      good_work  \\\n",
       "count  110148.000000  110148.000000    110148.000000  110148.000000   \n",
       "mean    55074.500000      39.249410         0.273205       0.165514   \n",
       "std     31797.133063      11.518063         0.799099       0.371645   \n",
       "min         1.000000      21.000000         0.000000       0.000000   \n",
       "25%     27537.750000      30.000000         0.000000       0.000000   \n",
       "50%     55074.500000      37.000000         0.000000       0.000000   \n",
       "75%     82611.250000      48.000000         0.000000       0.000000   \n",
       "max    110148.000000      72.000000        33.000000       1.000000   \n",
       "\n",
       "           score_bki  bki_request_cnt  region_rating   home_address  \\\n",
       "count  110148.000000    110148.000000  110148.000000  110148.000000   \n",
       "mean       -1.904535         2.005002      56.751189       1.574945   \n",
       "std         0.499397         2.266926      13.065923       0.527562   \n",
       "min        -3.624586         0.000000      20.000000       1.000000   \n",
       "25%        -2.260434         0.000000      50.000000       1.000000   \n",
       "50%        -1.920823         1.000000      50.000000       2.000000   \n",
       "75%        -1.567888         3.000000      60.000000       2.000000   \n",
       "max         0.199773        53.000000      80.000000       3.000000   \n",
       "\n",
       "        work_address          income            sna     first_time  \\\n",
       "count  110148.000000   110148.000000  110148.000000  110148.000000   \n",
       "mean        2.497867    41012.648537       1.731588       2.765570   \n",
       "std         0.687651    45399.735051       1.122652       1.010151   \n",
       "min         1.000000     1000.000000       1.000000       1.000000   \n",
       "25%         2.000000    20000.000000       1.000000       2.000000   \n",
       "50%         3.000000    30000.000000       1.000000       3.000000   \n",
       "75%         3.000000    48000.000000       2.000000       4.000000   \n",
       "max         3.000000  1000000.000000       4.000000       4.000000   \n",
       "\n",
       "              sample        default           days           pr1  \\\n",
       "count  110148.000000  110148.000000  110148.000000  1.101480e+05   \n",
       "mean        0.669999      -0.244916      58.028534  4.919718e+06   \n",
       "std         0.470215       0.595908      32.076078  6.208123e+06   \n",
       "min         0.000000      -1.000000       0.000000  6.866602e+04   \n",
       "25%         0.000000      -1.000000      30.000000  2.194018e+06   \n",
       "50%         1.000000       0.000000      57.000000  3.429216e+06   \n",
       "75%         1.000000       0.000000      86.000000  5.538766e+06   \n",
       "max         1.000000       1.000000     119.000000  2.138392e+08   \n",
       "\n",
       "                 pr2  \n",
       "count  110148.000000  \n",
       "mean     -303.826802  \n",
       "std       232.347142  \n",
       "min     -1549.978371  \n",
       "25%      -441.731510  \n",
       "50%      -246.771518  \n",
       "75%      -119.920777  \n",
       "max        66.551486  "
      ]
     },
     "execution_count": 24,
     "metadata": {},
     "output_type": "execute_result"
    }
   ],
   "source": [
    "df.describe()"
   ]
  },
  {
   "cell_type": "code",
   "execution_count": 25,
   "metadata": {},
   "outputs": [
    {
     "data": {
      "text/plain": [
       "<AxesSubplot:xlabel='pr1', ylabel='Count'>"
      ]
     },
     "execution_count": 25,
     "metadata": {},
     "output_type": "execute_result"
    },
    {
     "data": {
      "image/png": "[encoded data removed]",
      "text/plain": [
       "<Figure size 432x288 with 1 Axes>"
      ]
     },
     "metadata": {
      "needs_background": "light"
     },
     "output_type": "display_data"
    }
   ],
   "source": [
    "sns.histplot(df.pr1)"
   ]
  },
  {
   "cell_type": "code",
   "execution_count": 26,
   "metadata": {},
   "outputs": [
    {
     "data": {
      "text/plain": [
       "<AxesSubplot:xlabel='pr2', ylabel='Count'>"
      ]
     },
     "execution_count": 26,
     "metadata": {},
     "output_type": "execute_result"
    },
    {
     "data": {
      "image/png": "[encoded data removed]",
      "text/plain": [
       "<Figure size 432x288 with 1 Axes>"
      ]
     },
     "metadata": {
      "needs_background": "light"
     },
     "output_type": "display_data"
    }
   ],
   "source": [
    "sns.histplot(df.pr2)"
   ]
  },
  {
   "cell_type": "code",
   "execution_count": 27,
   "metadata": {},
   "outputs": [],
   "source": [
    "col_num = ['days', 'age', 'decline_app_cnt', 'score_bki',\n",
    "           'bki_request_cnt', 'income', 'pr1', 'pr2']"
   ]
  },
  {
   "cell_type": "code",
   "execution_count": 28,
   "metadata": {},
   "outputs": [
    {
     "data": {
      "text/html": [
       "<div>\n",
       "<style scoped>\n",
       "    .dataframe tbody tr th:only-of-type {\n",
       "        vertical-align: middle;\n",
       "    }\n",
       "\n",
       "    .dataframe tbody tr th {\n",
       "        vertical-align: top;\n",
       "    }\n",
       "\n",
       "    .dataframe thead th {\n",
       "        text-align: right;\n",
       "    }\n",
       "</style>\n",
       "<table border=\"1\" class=\"dataframe\">\n",
       "  <thead>\n",
       "    <tr style=\"text-align: right;\">\n",
       "      <th></th>\n",
       "      <th>days</th>\n",
       "      <th>age</th>\n",
       "      <th>decline_app_cnt</th>\n",
       "      <th>score_bki</th>\n",
       "      <th>bki_request_cnt</th>\n",
       "      <th>income</th>\n",
       "      <th>pr1</th>\n",
       "      <th>pr2</th>\n",
       "    </tr>\n",
       "  </thead>\n",
       "  <tbody>\n",
       "    <tr>\n",
       "      <th>days</th>\n",
       "      <td>1.000000</td>\n",
       "      <td>-0.015831</td>\n",
       "      <td>0.021489</td>\n",
       "      <td>0.061969</td>\n",
       "      <td>0.027610</td>\n",
       "      <td>0.002364</td>\n",
       "      <td>0.007423</td>\n",
       "      <td>-0.711625</td>\n",
       "    </tr>\n",
       "    <tr>\n",
       "      <th>age</th>\n",
       "      <td>-0.015831</td>\n",
       "      <td>1.000000</td>\n",
       "      <td>-0.111454</td>\n",
       "      <td>-0.104682</td>\n",
       "      <td>0.046975</td>\n",
       "      <td>-0.018664</td>\n",
       "      <td>0.170949</td>\n",
       "      <td>-0.061503</td>\n",
       "    </tr>\n",
       "    <tr>\n",
       "      <th>decline_app_cnt</th>\n",
       "      <td>0.021489</td>\n",
       "      <td>-0.111454</td>\n",
       "      <td>1.000000</td>\n",
       "      <td>0.187869</td>\n",
       "      <td>0.159927</td>\n",
       "      <td>-0.022241</td>\n",
       "      <td>-0.016265</td>\n",
       "      <td>0.082089</td>\n",
       "    </tr>\n",
       "    <tr>\n",
       "      <th>score_bki</th>\n",
       "      <td>0.061969</td>\n",
       "      <td>-0.104682</td>\n",
       "      <td>0.187869</td>\n",
       "      <td>1.000000</td>\n",
       "      <td>0.157451</td>\n",
       "      <td>-0.011721</td>\n",
       "      <td>0.104750</td>\n",
       "      <td>0.336316</td>\n",
       "    </tr>\n",
       "    <tr>\n",
       "      <th>bki_request_cnt</th>\n",
       "      <td>0.027610</td>\n",
       "      <td>0.046975</td>\n",
       "      <td>0.159927</td>\n",
       "      <td>0.157451</td>\n",
       "      <td>1.000000</td>\n",
       "      <td>0.080475</td>\n",
       "      <td>0.119443</td>\n",
       "      <td>0.032032</td>\n",
       "    </tr>\n",
       "    <tr>\n",
       "      <th>income</th>\n",
       "      <td>0.002364</td>\n",
       "      <td>-0.018664</td>\n",
       "      <td>-0.022241</td>\n",
       "      <td>-0.011721</td>\n",
       "      <td>0.080475</td>\n",
       "      <td>1.000000</td>\n",
       "      <td>0.933441</td>\n",
       "      <td>-0.060413</td>\n",
       "    </tr>\n",
       "    <tr>\n",
       "      <th>pr1</th>\n",
       "      <td>0.007423</td>\n",
       "      <td>0.170949</td>\n",
       "      <td>-0.016265</td>\n",
       "      <td>0.104750</td>\n",
       "      <td>0.119443</td>\n",
       "      <td>0.933441</td>\n",
       "      <td>1.000000</td>\n",
       "      <td>-0.020474</td>\n",
       "    </tr>\n",
       "    <tr>\n",
       "      <th>pr2</th>\n",
       "      <td>-0.711625</td>\n",
       "      <td>-0.061503</td>\n",
       "      <td>0.082089</td>\n",
       "      <td>0.336316</td>\n",
       "      <td>0.032032</td>\n",
       "      <td>-0.060413</td>\n",
       "      <td>-0.020474</td>\n",
       "      <td>1.000000</td>\n",
       "    </tr>\n",
       "  </tbody>\n",
       "</table>\n",
       "</div>"
      ],
      "text/plain": [
       "                     days       age  decline_app_cnt  score_bki  \\\n",
       "days             1.000000 -0.015831         0.021489   0.061969   \n",
       "age             -0.015831  1.000000        -0.111454  -0.104682   \n",
       "decline_app_cnt  0.021489 -0.111454         1.000000   0.187869   \n",
       "score_bki        0.061969 -0.104682         0.187869   1.000000   \n",
       "bki_request_cnt  0.027610  0.046975         0.159927   0.157451   \n",
       "income           0.002364 -0.018664        -0.022241  -0.011721   \n",
       "pr1              0.007423  0.170949        -0.016265   0.104750   \n",
       "pr2             -0.711625 -0.061503         0.082089   0.336316   \n",
       "\n",
       "                 bki_request_cnt    income       pr1       pr2  \n",
       "days                    0.027610  0.002364  0.007423 -0.711625  \n",
       "age                     0.046975 -0.018664  0.170949 -0.061503  \n",
       "decline_app_cnt         0.159927 -0.022241 -0.016265  0.082089  \n",
       "score_bki               0.157451 -0.011721  0.104750  0.336316  \n",
       "bki_request_cnt         1.000000  0.080475  0.119443  0.032032  \n",
       "income                  0.080475  1.000000  0.933441 -0.060413  \n",
       "pr1                     0.119443  0.933441  1.000000 -0.020474  \n",
       "pr2                     0.032032 -0.060413 -0.020474  1.000000  "
      ]
     },
     "execution_count": 28,
     "metadata": {},
     "output_type": "execute_result"
    }
   ],
   "source": [
    "df[col_num].corr()"
   ]
  },
  {
   "cell_type": "raw",
   "metadata": {},
   "source": [
    "все числовые данные оставляем"
   ]
  },
  {
   "cell_type": "code",
   "execution_count": 29,
   "metadata": {},
   "outputs": [
    {
     "name": "stderr",
     "output_type": "stream",
     "text": [
      "C:\\ProgramData\\Anaconda3\\lib\\site-packages\\seaborn\\_decorators.py:36: FutureWarning: Pass the following variable as a keyword arg: x. From version 0.12, the only valid positional argument will be `data`, and passing other arguments without an explicit keyword will result in an error or misinterpretation.\n",
      "  warnings.warn(\n"
     ]
    },
    {
     "data": {
      "text/plain": [
       "<AxesSubplot:xlabel='income'>"
      ]
     },
     "execution_count": 29,
     "metadata": {},
     "output_type": "execute_result"
    },
    {
     "data": {
      "image/png": "[encoded data removed]",
      "text/plain": [
       "<Figure size 432x288 with 1 Axes>"
      ]
     },
     "metadata": {
      "needs_background": "light"
     },
     "output_type": "display_data"
    }
   ],
   "source": [
    "# рассмотрим поле income\n",
    "sns.boxplot(df.income)"
   ]
  },
  {
   "cell_type": "raw",
   "metadata": {},
   "source": [
    "Здесь полно выбросов, но данных о том, что цифры не достоверны нет. Поскольку нет сумм, запрошенных кредитов, то по сути не с чем сопоставлять. Возможно в банке есть запросы, как на ипотеку с большими зарплатами, так и небольшие потребкредиты, где уровень заработка может быть скромнее. Оставляем, как есть. Выбросы не трогаем."
   ]
  },
  {
   "cell_type": "code",
   "execution_count": 30,
   "metadata": {},
   "outputs": [
    {
     "data": {
      "text/html": [
       "<div>\n",
       "<style scoped>\n",
       "    .dataframe tbody tr th:only-of-type {\n",
       "        vertical-align: middle;\n",
       "    }\n",
       "\n",
       "    .dataframe tbody tr th {\n",
       "        vertical-align: top;\n",
       "    }\n",
       "\n",
       "    .dataframe thead th {\n",
       "        text-align: right;\n",
       "    }\n",
       "</style>\n",
       "<table border=\"1\" class=\"dataframe\">\n",
       "  <thead>\n",
       "    <tr style=\"text-align: right;\">\n",
       "      <th></th>\n",
       "      <th>client_id</th>\n",
       "      <th>age</th>\n",
       "      <th>decline_app_cnt</th>\n",
       "      <th>good_work</th>\n",
       "      <th>score_bki</th>\n",
       "      <th>bki_request_cnt</th>\n",
       "      <th>region_rating</th>\n",
       "      <th>home_address</th>\n",
       "      <th>work_address</th>\n",
       "      <th>income</th>\n",
       "      <th>sna</th>\n",
       "      <th>first_time</th>\n",
       "      <th>sample</th>\n",
       "      <th>default</th>\n",
       "      <th>days</th>\n",
       "      <th>pr1</th>\n",
       "      <th>pr2</th>\n",
       "    </tr>\n",
       "  </thead>\n",
       "  <tbody>\n",
       "    <tr>\n",
       "      <th>client_id</th>\n",
       "      <td>1.000000</td>\n",
       "      <td>0.015535</td>\n",
       "      <td>-0.021508</td>\n",
       "      <td>0.003447</td>\n",
       "      <td>-0.061653</td>\n",
       "      <td>-0.027428</td>\n",
       "      <td>0.005720</td>\n",
       "      <td>0.163686</td>\n",
       "      <td>0.163422</td>\n",
       "      <td>-0.002069</td>\n",
       "      <td>-0.001624</td>\n",
       "      <td>0.016865</td>\n",
       "      <td>0.002844</td>\n",
       "      <td>-0.012182</td>\n",
       "      <td>-0.999581</td>\n",
       "      <td>-0.007172</td>\n",
       "      <td>0.711036</td>\n",
       "    </tr>\n",
       "    <tr>\n",
       "      <th>age</th>\n",
       "      <td>0.015535</td>\n",
       "      <td>1.000000</td>\n",
       "      <td>-0.111454</td>\n",
       "      <td>-0.072233</td>\n",
       "      <td>-0.104682</td>\n",
       "      <td>0.046975</td>\n",
       "      <td>-0.089147</td>\n",
       "      <td>0.012135</td>\n",
       "      <td>-0.004509</td>\n",
       "      <td>-0.018664</td>\n",
       "      <td>-0.058364</td>\n",
       "      <td>0.078644</td>\n",
       "      <td>0.003864</td>\n",
       "      <td>-0.005927</td>\n",
       "      <td>-0.015831</td>\n",
       "      <td>0.170949</td>\n",
       "      <td>-0.061503</td>\n",
       "    </tr>\n",
       "    <tr>\n",
       "      <th>decline_app_cnt</th>\n",
       "      <td>-0.021508</td>\n",
       "      <td>-0.111454</td>\n",
       "      <td>1.000000</td>\n",
       "      <td>-0.029525</td>\n",
       "      <td>0.187869</td>\n",
       "      <td>0.159927</td>\n",
       "      <td>-0.038254</td>\n",
       "      <td>0.011095</td>\n",
       "      <td>0.015410</td>\n",
       "      <td>-0.022241</td>\n",
       "      <td>0.062434</td>\n",
       "      <td>-0.070939</td>\n",
       "      <td>0.004536</td>\n",
       "      <td>0.046868</td>\n",
       "      <td>0.021489</td>\n",
       "      <td>-0.016265</td>\n",
       "      <td>0.082089</td>\n",
       "    </tr>\n",
       "    <tr>\n",
       "      <th>good_work</th>\n",
       "      <td>0.003447</td>\n",
       "      <td>-0.072233</td>\n",
       "      <td>-0.029525</td>\n",
       "      <td>1.000000</td>\n",
       "      <td>0.005063</td>\n",
       "      <td>0.007789</td>\n",
       "      <td>0.070839</td>\n",
       "      <td>-0.008650</td>\n",
       "      <td>-0.011993</td>\n",
       "      <td>0.026447</td>\n",
       "      <td>-0.052889</td>\n",
       "      <td>0.058787</td>\n",
       "      <td>-0.002376</td>\n",
       "      <td>-0.018322</td>\n",
       "      <td>-0.003295</td>\n",
       "      <td>0.005927</td>\n",
       "      <td>-0.025752</td>\n",
       "    </tr>\n",
       "    <tr>\n",
       "      <th>score_bki</th>\n",
       "      <td>-0.061653</td>\n",
       "      <td>-0.104682</td>\n",
       "      <td>0.187869</td>\n",
       "      <td>0.005063</td>\n",
       "      <td>1.000000</td>\n",
       "      <td>0.157451</td>\n",
       "      <td>0.007132</td>\n",
       "      <td>0.016056</td>\n",
       "      <td>0.016683</td>\n",
       "      <td>-0.011721</td>\n",
       "      <td>0.067646</td>\n",
       "      <td>-0.069805</td>\n",
       "      <td>-0.000538</td>\n",
       "      <td>0.065020</td>\n",
       "      <td>0.061969</td>\n",
       "      <td>0.104750</td>\n",
       "      <td>0.336316</td>\n",
       "    </tr>\n",
       "    <tr>\n",
       "      <th>bki_request_cnt</th>\n",
       "      <td>-0.027428</td>\n",
       "      <td>0.046975</td>\n",
       "      <td>0.159927</td>\n",
       "      <td>0.007789</td>\n",
       "      <td>0.157451</td>\n",
       "      <td>1.000000</td>\n",
       "      <td>0.006780</td>\n",
       "      <td>0.005331</td>\n",
       "      <td>0.001763</td>\n",
       "      <td>0.080475</td>\n",
       "      <td>0.004577</td>\n",
       "      <td>0.012247</td>\n",
       "      <td>-0.002931</td>\n",
       "      <td>0.026492</td>\n",
       "      <td>0.027610</td>\n",
       "      <td>0.119443</td>\n",
       "      <td>0.032032</td>\n",
       "    </tr>\n",
       "    <tr>\n",
       "      <th>region_rating</th>\n",
       "      <td>0.005720</td>\n",
       "      <td>-0.089147</td>\n",
       "      <td>-0.038254</td>\n",
       "      <td>0.070839</td>\n",
       "      <td>0.007132</td>\n",
       "      <td>0.006780</td>\n",
       "      <td>1.000000</td>\n",
       "      <td>0.232971</td>\n",
       "      <td>0.254062</td>\n",
       "      <td>0.207494</td>\n",
       "      <td>-0.080876</td>\n",
       "      <td>0.090701</td>\n",
       "      <td>-0.002780</td>\n",
       "      <td>-0.035777</td>\n",
       "      <td>-0.004645</td>\n",
       "      <td>0.160821</td>\n",
       "      <td>-0.041471</td>\n",
       "    </tr>\n",
       "    <tr>\n",
       "      <th>home_address</th>\n",
       "      <td>0.163686</td>\n",
       "      <td>0.012135</td>\n",
       "      <td>0.011095</td>\n",
       "      <td>-0.008650</td>\n",
       "      <td>0.016056</td>\n",
       "      <td>0.005331</td>\n",
       "      <td>0.232971</td>\n",
       "      <td>1.000000</td>\n",
       "      <td>0.726535</td>\n",
       "      <td>0.037882</td>\n",
       "      <td>0.114541</td>\n",
       "      <td>-0.058430</td>\n",
       "      <td>0.001525</td>\n",
       "      <td>0.033045</td>\n",
       "      <td>-0.162314</td>\n",
       "      <td>0.030185</td>\n",
       "      <td>0.160486</td>\n",
       "    </tr>\n",
       "    <tr>\n",
       "      <th>work_address</th>\n",
       "      <td>0.163422</td>\n",
       "      <td>-0.004509</td>\n",
       "      <td>0.015410</td>\n",
       "      <td>-0.011993</td>\n",
       "      <td>0.016683</td>\n",
       "      <td>0.001763</td>\n",
       "      <td>0.254062</td>\n",
       "      <td>0.726535</td>\n",
       "      <td>1.000000</td>\n",
       "      <td>0.052153</td>\n",
       "      <td>0.111162</td>\n",
       "      <td>-0.062266</td>\n",
       "      <td>-0.003287</td>\n",
       "      <td>0.027715</td>\n",
       "      <td>-0.161763</td>\n",
       "      <td>0.038479</td>\n",
       "      <td>0.161717</td>\n",
       "    </tr>\n",
       "    <tr>\n",
       "      <th>income</th>\n",
       "      <td>-0.002069</td>\n",
       "      <td>-0.018664</td>\n",
       "      <td>-0.022241</td>\n",
       "      <td>0.026447</td>\n",
       "      <td>-0.011721</td>\n",
       "      <td>0.080475</td>\n",
       "      <td>0.207494</td>\n",
       "      <td>0.037882</td>\n",
       "      <td>0.052153</td>\n",
       "      <td>1.000000</td>\n",
       "      <td>-0.090882</td>\n",
       "      <td>0.109453</td>\n",
       "      <td>0.002735</td>\n",
       "      <td>-0.012701</td>\n",
       "      <td>0.002364</td>\n",
       "      <td>0.933441</td>\n",
       "      <td>-0.060413</td>\n",
       "    </tr>\n",
       "    <tr>\n",
       "      <th>sna</th>\n",
       "      <td>-0.001624</td>\n",
       "      <td>-0.058364</td>\n",
       "      <td>0.062434</td>\n",
       "      <td>-0.052889</td>\n",
       "      <td>0.067646</td>\n",
       "      <td>0.004577</td>\n",
       "      <td>-0.080876</td>\n",
       "      <td>0.114541</td>\n",
       "      <td>0.111162</td>\n",
       "      <td>-0.090882</td>\n",
       "      <td>1.000000</td>\n",
       "      <td>-0.526594</td>\n",
       "      <td>0.002210</td>\n",
       "      <td>0.049113</td>\n",
       "      <td>0.001476</td>\n",
       "      <td>-0.086123</td>\n",
       "      <td>0.265097</td>\n",
       "    </tr>\n",
       "    <tr>\n",
       "      <th>first_time</th>\n",
       "      <td>0.016865</td>\n",
       "      <td>0.078644</td>\n",
       "      <td>-0.070939</td>\n",
       "      <td>0.058787</td>\n",
       "      <td>-0.069805</td>\n",
       "      <td>0.012247</td>\n",
       "      <td>0.090701</td>\n",
       "      <td>-0.058430</td>\n",
       "      <td>-0.062266</td>\n",
       "      <td>0.109453</td>\n",
       "      <td>-0.526594</td>\n",
       "      <td>1.000000</td>\n",
       "      <td>-0.000159</td>\n",
       "      <td>-0.039639</td>\n",
       "      <td>-0.016491</td>\n",
       "      <td>0.108484</td>\n",
       "      <td>-0.480217</td>\n",
       "    </tr>\n",
       "    <tr>\n",
       "      <th>sample</th>\n",
       "      <td>0.002844</td>\n",
       "      <td>0.003864</td>\n",
       "      <td>0.004536</td>\n",
       "      <td>-0.002376</td>\n",
       "      <td>-0.000538</td>\n",
       "      <td>-0.002931</td>\n",
       "      <td>-0.002780</td>\n",
       "      <td>0.001525</td>\n",
       "      <td>-0.003287</td>\n",
       "      <td>0.002735</td>\n",
       "      <td>0.002210</td>\n",
       "      <td>-0.000159</td>\n",
       "      <td>1.000000</td>\n",
       "      <td>0.889281</td>\n",
       "      <td>-0.002842</td>\n",
       "      <td>0.002760</td>\n",
       "      <td>0.002280</td>\n",
       "    </tr>\n",
       "    <tr>\n",
       "      <th>default</th>\n",
       "      <td>-0.012182</td>\n",
       "      <td>-0.005927</td>\n",
       "      <td>0.046868</td>\n",
       "      <td>-0.018322</td>\n",
       "      <td>0.065020</td>\n",
       "      <td>0.026492</td>\n",
       "      <td>-0.035777</td>\n",
       "      <td>0.033045</td>\n",
       "      <td>0.027715</td>\n",
       "      <td>-0.012701</td>\n",
       "      <td>0.049113</td>\n",
       "      <td>-0.039639</td>\n",
       "      <td>0.889281</td>\n",
       "      <td>1.000000</td>\n",
       "      <td>0.012234</td>\n",
       "      <td>-0.004538</td>\n",
       "      <td>0.031958</td>\n",
       "    </tr>\n",
       "    <tr>\n",
       "      <th>days</th>\n",
       "      <td>-0.999581</td>\n",
       "      <td>-0.015831</td>\n",
       "      <td>0.021489</td>\n",
       "      <td>-0.003295</td>\n",
       "      <td>0.061969</td>\n",
       "      <td>0.027610</td>\n",
       "      <td>-0.004645</td>\n",
       "      <td>-0.162314</td>\n",
       "      <td>-0.161763</td>\n",
       "      <td>0.002364</td>\n",
       "      <td>0.001476</td>\n",
       "      <td>-0.016491</td>\n",
       "      <td>-0.002842</td>\n",
       "      <td>0.012234</td>\n",
       "      <td>1.000000</td>\n",
       "      <td>0.007423</td>\n",
       "      <td>-0.711625</td>\n",
       "    </tr>\n",
       "    <tr>\n",
       "      <th>pr1</th>\n",
       "      <td>-0.007172</td>\n",
       "      <td>0.170949</td>\n",
       "      <td>-0.016265</td>\n",
       "      <td>0.005927</td>\n",
       "      <td>0.104750</td>\n",
       "      <td>0.119443</td>\n",
       "      <td>0.160821</td>\n",
       "      <td>0.030185</td>\n",
       "      <td>0.038479</td>\n",
       "      <td>0.933441</td>\n",
       "      <td>-0.086123</td>\n",
       "      <td>0.108484</td>\n",
       "      <td>0.002760</td>\n",
       "      <td>-0.004538</td>\n",
       "      <td>0.007423</td>\n",
       "      <td>1.000000</td>\n",
       "      <td>-0.020474</td>\n",
       "    </tr>\n",
       "    <tr>\n",
       "      <th>pr2</th>\n",
       "      <td>0.711036</td>\n",
       "      <td>-0.061503</td>\n",
       "      <td>0.082089</td>\n",
       "      <td>-0.025752</td>\n",
       "      <td>0.336316</td>\n",
       "      <td>0.032032</td>\n",
       "      <td>-0.041471</td>\n",
       "      <td>0.160486</td>\n",
       "      <td>0.161717</td>\n",
       "      <td>-0.060413</td>\n",
       "      <td>0.265097</td>\n",
       "      <td>-0.480217</td>\n",
       "      <td>0.002280</td>\n",
       "      <td>0.031958</td>\n",
       "      <td>-0.711625</td>\n",
       "      <td>-0.020474</td>\n",
       "      <td>1.000000</td>\n",
       "    </tr>\n",
       "  </tbody>\n",
       "</table>\n",
       "</div>"
      ],
      "text/plain": [
       "                 client_id       age  decline_app_cnt  good_work  score_bki  \\\n",
       "client_id         1.000000  0.015535        -0.021508   0.003447  -0.061653   \n",
       "age               0.015535  1.000000        -0.111454  -0.072233  -0.104682   \n",
       "decline_app_cnt  -0.021508 -0.111454         1.000000  -0.029525   0.187869   \n",
       "good_work         0.003447 -0.072233        -0.029525   1.000000   0.005063   \n",
       "score_bki        -0.061653 -0.104682         0.187869   0.005063   1.000000   \n",
       "bki_request_cnt  -0.027428  0.046975         0.159927   0.007789   0.157451   \n",
       "region_rating     0.005720 -0.089147        -0.038254   0.070839   0.007132   \n",
       "home_address      0.163686  0.012135         0.011095  -0.008650   0.016056   \n",
       "work_address      0.163422 -0.004509         0.015410  -0.011993   0.016683   \n",
       "income           -0.002069 -0.018664        -0.022241   0.026447  -0.011721   \n",
       "sna              -0.001624 -0.058364         0.062434  -0.052889   0.067646   \n",
       "first_time        0.016865  0.078644        -0.070939   0.058787  -0.069805   \n",
       "sample            0.002844  0.003864         0.004536  -0.002376  -0.000538   \n",
       "default          -0.012182 -0.005927         0.046868  -0.018322   0.065020   \n",
       "days             -0.999581 -0.015831         0.021489  -0.003295   0.061969   \n",
       "pr1              -0.007172  0.170949        -0.016265   0.005927   0.104750   \n",
       "pr2               0.711036 -0.061503         0.082089  -0.025752   0.336316   \n",
       "\n",
       "                 bki_request_cnt  region_rating  home_address  work_address  \\\n",
       "client_id              -0.027428       0.005720      0.163686      0.163422   \n",
       "age                     0.046975      -0.089147      0.012135     -0.004509   \n",
       "decline_app_cnt         0.159927      -0.038254      0.011095      0.015410   \n",
       "good_work               0.007789       0.070839     -0.008650     -0.011993   \n",
       "score_bki               0.157451       0.007132      0.016056      0.016683   \n",
       "bki_request_cnt         1.000000       0.006780      0.005331      0.001763   \n",
       "region_rating           0.006780       1.000000      0.232971      0.254062   \n",
       "home_address            0.005331       0.232971      1.000000      0.726535   \n",
       "work_address            0.001763       0.254062      0.726535      1.000000   \n",
       "income                  0.080475       0.207494      0.037882      0.052153   \n",
       "sna                     0.004577      -0.080876      0.114541      0.111162   \n",
       "first_time              0.012247       0.090701     -0.058430     -0.062266   \n",
       "sample                 -0.002931      -0.002780      0.001525     -0.003287   \n",
       "default                 0.026492      -0.035777      0.033045      0.027715   \n",
       "days                    0.027610      -0.004645     -0.162314     -0.161763   \n",
       "pr1                     0.119443       0.160821      0.030185      0.038479   \n",
       "pr2                     0.032032      -0.041471      0.160486      0.161717   \n",
       "\n",
       "                   income       sna  first_time    sample   default      days  \\\n",
       "client_id       -0.002069 -0.001624    0.016865  0.002844 -0.012182 -0.999581   \n",
       "age             -0.018664 -0.058364    0.078644  0.003864 -0.005927 -0.015831   \n",
       "decline_app_cnt -0.022241  0.062434   -0.070939  0.004536  0.046868  0.021489   \n",
       "good_work        0.026447 -0.052889    0.058787 -0.002376 -0.018322 -0.003295   \n",
       "score_bki       -0.011721  0.067646   -0.069805 -0.000538  0.065020  0.061969   \n",
       "bki_request_cnt  0.080475  0.004577    0.012247 -0.002931  0.026492  0.027610   \n",
       "region_rating    0.207494 -0.080876    0.090701 -0.002780 -0.035777 -0.004645   \n",
       "home_address     0.037882  0.114541   -0.058430  0.001525  0.033045 -0.162314   \n",
       "work_address     0.052153  0.111162   -0.062266 -0.003287  0.027715 -0.161763   \n",
       "income           1.000000 -0.090882    0.109453  0.002735 -0.012701  0.002364   \n",
       "sna             -0.090882  1.000000   -0.526594  0.002210  0.049113  0.001476   \n",
       "first_time       0.109453 -0.526594    1.000000 -0.000159 -0.039639 -0.016491   \n",
       "sample           0.002735  0.002210   -0.000159  1.000000  0.889281 -0.002842   \n",
       "default         -0.012701  0.049113   -0.039639  0.889281  1.000000  0.012234   \n",
       "days             0.002364  0.001476   -0.016491 -0.002842  0.012234  1.000000   \n",
       "pr1              0.933441 -0.086123    0.108484  0.002760 -0.004538  0.007423   \n",
       "pr2             -0.060413  0.265097   -0.480217  0.002280  0.031958 -0.711625   \n",
       "\n",
       "                      pr1       pr2  \n",
       "client_id       -0.007172  0.711036  \n",
       "age              0.170949 -0.061503  \n",
       "decline_app_cnt -0.016265  0.082089  \n",
       "good_work        0.005927 -0.025752  \n",
       "score_bki        0.104750  0.336316  \n",
       "bki_request_cnt  0.119443  0.032032  \n",
       "region_rating    0.160821 -0.041471  \n",
       "home_address     0.030185  0.160486  \n",
       "work_address     0.038479  0.161717  \n",
       "income           0.933441 -0.060413  \n",
       "sna             -0.086123  0.265097  \n",
       "first_time       0.108484 -0.480217  \n",
       "sample           0.002760  0.002280  \n",
       "default         -0.004538  0.031958  \n",
       "days             0.007423 -0.711625  \n",
       "pr1              1.000000 -0.020474  \n",
       "pr2             -0.020474  1.000000  "
      ]
     },
     "execution_count": 30,
     "metadata": {},
     "output_type": "execute_result"
    }
   ],
   "source": [
    "df.corr()"
   ]
  },
  {
   "cell_type": "code",
   "execution_count": 31,
   "metadata": {},
   "outputs": [
    {
     "data": {
      "text/plain": [
       "<AxesSubplot:>"
      ]
     },
     "execution_count": 31,
     "metadata": {},
     "output_type": "execute_result"
    },
    {
     "data": {
      "image/png": "[encoded data removed]",
      "text/plain": [
       "<Figure size 432x288 with 2 Axes>"
      ]
     },
     "metadata": {
      "needs_background": "light"
     },
     "output_type": "display_data"
    }
   ],
   "source": [
    "sns.heatmap(df.corr().abs(), vmin=0, vmax=1)"
   ]
  },
  {
   "cell_type": "raw",
   "metadata": {},
   "source": [
    "Между полями home_adress и work_adress есть взаимосвязь, но не настолько сильная, чтобы удалить что-то из них"
   ]
  },
  {
   "cell_type": "code",
   "execution_count": 32,
   "metadata": {},
   "outputs": [],
   "source": [
    "# убираем отработанный в числовой формат столбец\n",
    "df=df.drop('app_date', axis = 1)"
   ]
  },
  {
   "cell_type": "markdown",
   "metadata": {},
   "source": [
    "### Пролагорифмируем численные данные"
   ]
  },
  {
   "cell_type": "code",
   "execution_count": 33,
   "metadata": {},
   "outputs": [
    {
     "data": {
      "text/plain": [
       "['days',\n",
       " 'age',\n",
       " 'decline_app_cnt',\n",
       " 'score_bki',\n",
       " 'bki_request_cnt',\n",
       " 'income',\n",
       " 'pr1',\n",
       " 'pr2']"
      ]
     },
     "execution_count": 33,
     "metadata": {},
     "output_type": "execute_result"
    }
   ],
   "source": [
    "col_num"
   ]
  },
  {
   "cell_type": "code",
   "execution_count": 34,
   "metadata": {},
   "outputs": [],
   "source": [
    "# преобразуем переменные, в которых плохое распределение, чтобы сгладить\n",
    "num_cols_log = ['age', 'decline_app_cnt', 'bki_request_cnt', 'income','days','pr1']\n",
    "\n",
    "for i in num_cols_log:\n",
    "    df[i] = np.log(df[i] + 1)"
   ]
  },
  {
   "cell_type": "code",
   "execution_count": 35,
   "metadata": {},
   "outputs": [
    {
     "data": {
      "text/html": [
       "<div>\n",
       "<style scoped>\n",
       "    .dataframe tbody tr th:only-of-type {\n",
       "        vertical-align: middle;\n",
       "    }\n",
       "\n",
       "    .dataframe tbody tr th {\n",
       "        vertical-align: top;\n",
       "    }\n",
       "\n",
       "    .dataframe thead th {\n",
       "        text-align: right;\n",
       "    }\n",
       "</style>\n",
       "<table border=\"1\" class=\"dataframe\">\n",
       "  <thead>\n",
       "    <tr style=\"text-align: right;\">\n",
       "      <th></th>\n",
       "      <th>days</th>\n",
       "      <th>age</th>\n",
       "      <th>decline_app_cnt</th>\n",
       "      <th>score_bki</th>\n",
       "      <th>bki_request_cnt</th>\n",
       "      <th>income</th>\n",
       "      <th>pr1</th>\n",
       "      <th>pr2</th>\n",
       "    </tr>\n",
       "  </thead>\n",
       "  <tbody>\n",
       "    <tr>\n",
       "      <th>count</th>\n",
       "      <td>110148.000000</td>\n",
       "      <td>110148.000000</td>\n",
       "      <td>110148.000000</td>\n",
       "      <td>110148.000000</td>\n",
       "      <td>110148.000000</td>\n",
       "      <td>110148.000000</td>\n",
       "      <td>110148.000000</td>\n",
       "      <td>110148.000000</td>\n",
       "    </tr>\n",
       "    <tr>\n",
       "      <th>mean</th>\n",
       "      <td>3.831093</td>\n",
       "      <td>3.654546</td>\n",
       "      <td>0.151330</td>\n",
       "      <td>-1.904535</td>\n",
       "      <td>0.878752</td>\n",
       "      <td>10.345792</td>\n",
       "      <td>15.089677</td>\n",
       "      <td>-303.826802</td>\n",
       "    </tr>\n",
       "    <tr>\n",
       "      <th>std</th>\n",
       "      <td>0.855971</td>\n",
       "      <td>0.285054</td>\n",
       "      <td>0.361331</td>\n",
       "      <td>0.499397</td>\n",
       "      <td>0.658667</td>\n",
       "      <td>0.696636</td>\n",
       "      <td>0.741672</td>\n",
       "      <td>232.347142</td>\n",
       "    </tr>\n",
       "    <tr>\n",
       "      <th>min</th>\n",
       "      <td>0.000000</td>\n",
       "      <td>3.091042</td>\n",
       "      <td>0.000000</td>\n",
       "      <td>-3.624586</td>\n",
       "      <td>0.000000</td>\n",
       "      <td>6.908755</td>\n",
       "      <td>11.137024</td>\n",
       "      <td>-1549.978371</td>\n",
       "    </tr>\n",
       "    <tr>\n",
       "      <th>25%</th>\n",
       "      <td>3.433987</td>\n",
       "      <td>3.433987</td>\n",
       "      <td>0.000000</td>\n",
       "      <td>-2.260434</td>\n",
       "      <td>0.000000</td>\n",
       "      <td>9.903538</td>\n",
       "      <td>14.601245</td>\n",
       "      <td>-441.731510</td>\n",
       "    </tr>\n",
       "    <tr>\n",
       "      <th>50%</th>\n",
       "      <td>4.060443</td>\n",
       "      <td>3.637586</td>\n",
       "      <td>0.000000</td>\n",
       "      <td>-1.920823</td>\n",
       "      <td>0.693147</td>\n",
       "      <td>10.308986</td>\n",
       "      <td>15.047842</td>\n",
       "      <td>-246.771518</td>\n",
       "    </tr>\n",
       "    <tr>\n",
       "      <th>75%</th>\n",
       "      <td>4.465908</td>\n",
       "      <td>3.891820</td>\n",
       "      <td>0.000000</td>\n",
       "      <td>-1.567888</td>\n",
       "      <td>1.386294</td>\n",
       "      <td>10.778977</td>\n",
       "      <td>15.527283</td>\n",
       "      <td>-119.920777</td>\n",
       "    </tr>\n",
       "    <tr>\n",
       "      <th>max</th>\n",
       "      <td>4.787492</td>\n",
       "      <td>4.290459</td>\n",
       "      <td>3.526361</td>\n",
       "      <td>0.199773</td>\n",
       "      <td>3.988984</td>\n",
       "      <td>13.815512</td>\n",
       "      <td>19.180735</td>\n",
       "      <td>66.551486</td>\n",
       "    </tr>\n",
       "  </tbody>\n",
       "</table>\n",
       "</div>"
      ],
      "text/plain": [
       "                days            age  decline_app_cnt      score_bki  \\\n",
       "count  110148.000000  110148.000000    110148.000000  110148.000000   \n",
       "mean        3.831093       3.654546         0.151330      -1.904535   \n",
       "std         0.855971       0.285054         0.361331       0.499397   \n",
       "min         0.000000       3.091042         0.000000      -3.624586   \n",
       "25%         3.433987       3.433987         0.000000      -2.260434   \n",
       "50%         4.060443       3.637586         0.000000      -1.920823   \n",
       "75%         4.465908       3.891820         0.000000      -1.567888   \n",
       "max         4.787492       4.290459         3.526361       0.199773   \n",
       "\n",
       "       bki_request_cnt         income            pr1            pr2  \n",
       "count    110148.000000  110148.000000  110148.000000  110148.000000  \n",
       "mean          0.878752      10.345792      15.089677    -303.826802  \n",
       "std           0.658667       0.696636       0.741672     232.347142  \n",
       "min           0.000000       6.908755      11.137024   -1549.978371  \n",
       "25%           0.000000       9.903538      14.601245    -441.731510  \n",
       "50%           0.693147      10.308986      15.047842    -246.771518  \n",
       "75%           1.386294      10.778977      15.527283    -119.920777  \n",
       "max           3.988984      13.815512      19.180735      66.551486  "
      ]
     },
     "execution_count": 35,
     "metadata": {},
     "output_type": "execute_result"
    }
   ],
   "source": [
    "df[['days',\n",
    " 'age',\n",
    " 'decline_app_cnt',\n",
    " 'score_bki',\n",
    " 'bki_request_cnt',\n",
    " 'income',\n",
    " 'pr1',\n",
    " 'pr2']].describe()"
   ]
  },
  {
   "cell_type": "markdown",
   "metadata": {},
   "source": [
    "### Разделение на две выборки и дальнейшие преобразования"
   ]
  },
  {
   "cell_type": "code",
   "execution_count": 36,
   "metadata": {},
   "outputs": [],
   "source": [
    "df_train=df[df['sample']==1]\n",
    "df_test=df[df['sample']==0]\n",
    "Y_train=df_train.default\n",
    "df_test=df_test.drop('default', axis=1)"
   ]
  },
  {
   "cell_type": "code",
   "execution_count": 37,
   "metadata": {},
   "outputs": [
    {
     "data": {
      "text/plain": [
       "(73799, 22)"
      ]
     },
     "execution_count": 37,
     "metadata": {},
     "output_type": "execute_result"
    }
   ],
   "source": [
    "df_train.shape"
   ]
  },
  {
   "cell_type": "raw",
   "metadata": {},
   "source": [
    "# сбалансируем выборку по полю default\n",
    "a=df_train.default.value_counts().min()\n",
    "data0=df_train[df_train.default==1].head(a)\n",
    "data1=df_train[df_train.default==0].head(a)\n",
    "data=pd.concat([data0,data1])\n",
    "\n",
    "# не дало улучшение модели"
   ]
  },
  {
   "cell_type": "code",
   "execution_count": 38,
   "metadata": {},
   "outputs": [
    {
     "data": {
      "text/plain": [
       "(73799, 22)"
      ]
     },
     "execution_count": 38,
     "metadata": {},
     "output_type": "execute_result"
    }
   ],
   "source": [
    "df_train.shape"
   ]
  },
  {
   "cell_type": "code",
   "execution_count": 39,
   "metadata": {},
   "outputs": [],
   "source": [
    "poly = PolynomialFeatures(2)\n",
    "x_p = poly.fit_transform(df_train[col_num].values)\n",
    "X_num = StandardScaler().fit_transform(x_p)\n",
    "x_p_test = poly.fit_transform(df_test[col_num].values) \n",
    "X_num_test = StandardScaler().fit_transform(x_p_test)"
   ]
  },
  {
   "cell_type": "code",
   "execution_count": 40,
   "metadata": {},
   "outputs": [
    {
     "data": {
      "text/plain": [
       "(73799, 45)"
      ]
     },
     "execution_count": 40,
     "metadata": {},
     "output_type": "execute_result"
    }
   ],
   "source": [
    "X_num.shape"
   ]
  },
  {
   "cell_type": "code",
   "execution_count": 41,
   "metadata": {},
   "outputs": [
    {
     "data": {
      "text/plain": [
       "(36349, 45)"
      ]
     },
     "execution_count": 41,
     "metadata": {},
     "output_type": "execute_result"
    }
   ],
   "source": [
    "X_num_test.shape"
   ]
  },
  {
   "cell_type": "markdown",
   "metadata": {},
   "source": [
    "### Значимость непрерывных переменных"
   ]
  },
  {
   "cell_type": "code",
   "execution_count": 42,
   "metadata": {},
   "outputs": [
    {
     "data": {
      "text/plain": [
       "Text(0.5, 0, 'F-value')"
      ]
     },
     "execution_count": 42,
     "metadata": {},
     "output_type": "execute_result"
    },
    {
     "data": {
      "image/png": "[encoded data removed]",
      "text/plain": [
       "<Figure size 432x288 with 1 Axes>"
      ]
     },
     "metadata": {
      "needs_background": "light"
     },
     "output_type": "display_data"
    }
   ],
   "source": [
    "imp_num = Series(f_classif(df_train[col_num], df_train['default'])[0],\n",
    "                 index=col_num)\n",
    "imp_num.sort_values(inplace=True)\n",
    "imp_num.plot(kind='barh')\n",
    "plt.title('Значимость непрерывных переменных')\n",
    "plt.xlabel('F-value')"
   ]
  },
  {
   "cell_type": "markdown",
   "metadata": {},
   "source": [
    "## Преобразование категориальных признаков "
   ]
  },
  {
   "cell_type": "code",
   "execution_count": 43,
   "metadata": {},
   "outputs": [],
   "source": [
    "# разбивка категориальных признаков\n",
    "df_train=pd.get_dummies(df_train, columns=['education'])\n",
    "df_train=pd.get_dummies(df_train, columns=['region_rating'])\n",
    "df_test=pd.get_dummies(df_test, columns=['education'])\n",
    "df_test=pd.get_dummies(df_test, columns=['region_rating'])\n"
   ]
  },
  {
   "cell_type": "code",
   "execution_count": 44,
   "metadata": {},
   "outputs": [
    {
     "data": {
      "text/plain": [
       "['education',\n",
       " 'home_address',\n",
       " 'work_address',\n",
       " 'sna',\n",
       " 'first_time',\n",
       " 'region_rating']"
      ]
     },
     "execution_count": 44,
     "metadata": {},
     "output_type": "execute_result"
    }
   ],
   "source": [
    "col_cat"
   ]
  },
  {
   "cell_type": "code",
   "execution_count": 45,
   "metadata": {},
   "outputs": [],
   "source": [
    "df_train.loc[:,'adress1']=df_train.loc[:,'home_address']*df_train.loc[:,'work_address']*df_train.loc[:,'sna']\n",
    "df_train.loc[:,'adress2']=(df_train.loc[:,'home_address']+df_train.loc[:,'work_address'])"
   ]
  },
  {
   "cell_type": "code",
   "execution_count": 46,
   "metadata": {},
   "outputs": [],
   "source": [
    "df_test.loc[:,'adress1']=df_test.loc[:,'home_address']*df_test.loc[:,'work_address']*df_test.loc[:,'sna']\n",
    "df_test.loc[:,'adress2']=(df_test.loc[:,'home_address']+df_test.loc[:,'work_address'])"
   ]
  },
  {
   "cell_type": "code",
   "execution_count": 47,
   "metadata": {},
   "outputs": [
    {
     "data": {
      "text/plain": [
       "Index(['client_id', 'sex', 'age', 'car', 'car_type', 'decline_app_cnt',\n",
       "       'good_work', 'score_bki', 'bki_request_cnt', 'home_address',\n",
       "       'work_address', 'income', 'sna', 'first_time', 'foreign_passport',\n",
       "       'sample', 'default', 'days', 'pr1', 'pr2', 'education_ACD',\n",
       "       'education_GRD', 'education_PGR', 'education_SCH', 'education_UGR',\n",
       "       'region_rating_20', 'region_rating_30', 'region_rating_40',\n",
       "       'region_rating_50', 'region_rating_60', 'region_rating_70',\n",
       "       'region_rating_80', 'adress1', 'adress2'],\n",
       "      dtype='object')"
      ]
     },
     "execution_count": 47,
     "metadata": {},
     "output_type": "execute_result"
    }
   ],
   "source": [
    "df_train.columns"
   ]
  },
  {
   "cell_type": "code",
   "execution_count": 48,
   "metadata": {},
   "outputs": [],
   "source": [
    "col_cat = ['home_address', 'work_address', 'sna', 'education_ACD',\n",
    "           'education_ACD', 'education_GRD', 'education_PGR', 'education_SCH', 'education_UGR',\n",
    "           'region_rating_20', 'region_rating_30', 'region_rating_40',\n",
    "       'region_rating_50', 'region_rating_60', 'region_rating_70',\n",
    "       'region_rating_80', 'adress1', 'adress2']"
   ]
  },
  {
   "cell_type": "code",
   "execution_count": 49,
   "metadata": {},
   "outputs": [],
   "source": [
    "X_cat = OneHotEncoder(sparse=False).fit_transform(df_train[col_cat].values)\n",
    "X_cat_test = OneHotEncoder(sparse=False).fit_transform(df_test[col_cat].values)"
   ]
  },
  {
   "cell_type": "code",
   "execution_count": 50,
   "metadata": {},
   "outputs": [
    {
     "data": {
      "text/plain": [
       "(73799, 54)"
      ]
     },
     "execution_count": 50,
     "metadata": {},
     "output_type": "execute_result"
    }
   ],
   "source": [
    "X_cat.shape"
   ]
  },
  {
   "cell_type": "code",
   "execution_count": 51,
   "metadata": {},
   "outputs": [
    {
     "data": {
      "text/plain": [
       "(36349, 54)"
      ]
     },
     "execution_count": 51,
     "metadata": {},
     "output_type": "execute_result"
    }
   ],
   "source": [
    "X_cat_test.shape"
   ]
  },
  {
   "cell_type": "markdown",
   "metadata": {},
   "source": [
    "### Значимость категориальных переменных "
   ]
  },
  {
   "cell_type": "code",
   "execution_count": 52,
   "metadata": {},
   "outputs": [
    {
     "data": {
      "text/plain": [
       "Text(0.5, 1.0, 'Significance of cat variables')"
      ]
     },
     "execution_count": 52,
     "metadata": {},
     "output_type": "execute_result"
    },
    {
     "data": {
      "image/png": "[encoded data removed]",
      "text/plain": [
       "<Figure size 432x288 with 1 Axes>"
      ]
     },
     "metadata": {
      "needs_background": "light"
     },
     "output_type": "display_data"
    }
   ],
   "source": [
    "imp_cat = pd.Series(mutual_info_classif(df_train[col_cat],\n",
    "                                        df_train['default'],\n",
    "                                        discrete_features=True),\n",
    "                    index=df_train[col_cat].columns)\n",
    "imp_cat.sort_values(inplace=True)\n",
    "imp_cat.plot(kind='barh')\n",
    "plt.title('Significance of cat variables')"
   ]
  },
  {
   "cell_type": "markdown",
   "metadata": {},
   "source": [
    "### Значимость бинарных признаков"
   ]
  },
  {
   "cell_type": "code",
   "execution_count": 53,
   "metadata": {},
   "outputs": [
    {
     "data": {
      "text/plain": [
       "['sex', 'car', 'car_type', 'good_work', 'foreign_passport']"
      ]
     },
     "execution_count": 53,
     "metadata": {},
     "output_type": "execute_result"
    }
   ],
   "source": [
    "col_bin"
   ]
  },
  {
   "cell_type": "code",
   "execution_count": 54,
   "metadata": {},
   "outputs": [],
   "source": [
    "label_encoder = LabelEncoder()\n",
    "\n",
    "for column in col_bin:\n",
    "    df_train[column] = label_encoder.fit_transform(df_train[column])\n",
    "\n",
    "for column in col_bin:\n",
    "    df_test[column] = label_encoder.fit_transform(df_test[column]) "
   ]
  },
  {
   "cell_type": "code",
   "execution_count": 55,
   "metadata": {},
   "outputs": [
    {
     "data": {
      "text/plain": [
       "Text(0.5, 1.0, 'Значимость бинарных переменных')"
      ]
     },
     "execution_count": 55,
     "metadata": {},
     "output_type": "execute_result"
    },
    {
     "data": {
      "image/png": "[encoded data removed]",
      "text/plain": [
       "<Figure size 432x288 with 1 Axes>"
      ]
     },
     "metadata": {
      "needs_background": "light"
     },
     "output_type": "display_data"
    }
   ],
   "source": [
    "imp_bin = Series(mutual_info_classif(df_train[col_bin],\n",
    "                                     df_train['default'],\n",
    "                                     discrete_features=True),\n",
    "                 index=col_bin)\n",
    "imp_bin.sort_values(inplace=True)\n",
    "imp_bin.plot(kind='barh')\n",
    "plt.title('Значимость бинарных переменных')"
   ]
  },
  {
   "cell_type": "markdown",
   "metadata": {},
   "source": [
    "### Данные для модели"
   ]
  },
  {
   "cell_type": "code",
   "execution_count": 56,
   "metadata": {},
   "outputs": [],
   "source": [
    "# соединяем данные\n",
    "X = np.hstack([X_num, df_train[col_bin], X_cat])\n",
    "Y = df_train['default'].values\n",
    "\n",
    "X1= np.hstack([X_num_test, df_test[col_bin], X_cat_test])\n"
   ]
  },
  {
   "cell_type": "code",
   "execution_count": 57,
   "metadata": {},
   "outputs": [
    {
     "data": {
      "text/plain": [
       "(73799, 104)"
      ]
     },
     "execution_count": 57,
     "metadata": {},
     "output_type": "execute_result"
    }
   ],
   "source": [
    "X.shape"
   ]
  },
  {
   "cell_type": "code",
   "execution_count": 58,
   "metadata": {},
   "outputs": [
    {
     "data": {
      "text/plain": [
       "(73799,)"
      ]
     },
     "execution_count": 58,
     "metadata": {},
     "output_type": "execute_result"
    }
   ],
   "source": [
    "Y.shape"
   ]
  },
  {
   "cell_type": "code",
   "execution_count": 59,
   "metadata": {},
   "outputs": [
    {
     "data": {
      "text/plain": [
       "(36349, 104)"
      ]
     },
     "execution_count": 59,
     "metadata": {},
     "output_type": "execute_result"
    }
   ],
   "source": [
    "X1.shape"
   ]
  },
  {
   "cell_type": "markdown",
   "metadata": {},
   "source": [
    "## Построение модели"
   ]
  },
  {
   "cell_type": "code",
   "execution_count": 60,
   "metadata": {},
   "outputs": [],
   "source": [
    "X_train, X_test, y_train, y_test = train_test_split(\n",
    "    X, Y, test_size=0.20, random_state=42)"
   ]
  },
  {
   "cell_type": "raw",
   "metadata": {},
   "source": [
    "# Поиск параметров\n",
    "C = np.logspace(0, 4, 10)\n",
    "\n",
    "penalty = ['l1', 'l2']\n",
    "hyperparameters = dict(C=C, penalty=penalty)\n",
    "\n",
    "model = LogisticRegression()\n",
    "model.fit(X_train, y_train)\n",
    "\n",
    "clf = GridSearchCV(model, hyperparameters, cv=5, verbose=0)\n",
    "\n",
    "best_model = clf.fit(X_train, y_train)\n",
    "\n",
    "print('Лучший penalty:', best_model.best_estimator_.get_params()['penalty'])\n",
    "print('Лучшее C:', best_model.best_estimator_.get_params()['C'])"
   ]
  },
  {
   "cell_type": "raw",
   "metadata": {},
   "source": [
    "Лучший penalty: l2\n",
    "Лучшее C: 2.7825594022071245"
   ]
  },
  {
   "cell_type": "raw",
   "metadata": {},
   "source": [
    "Поиск параметров работает долго и много пишет замечаний, оставляю только результаты"
   ]
  },
  {
   "cell_type": "code",
   "execution_count": 61,
   "metadata": {
    "scrolled": true
   },
   "outputs": [
    {
     "name": "stderr",
     "output_type": "stream",
     "text": [
      "C:\\ProgramData\\Anaconda3\\lib\\site-packages\\sklearn\\linear_model\\_logistic.py:762: ConvergenceWarning: lbfgs failed to converge (status=1):\n",
      "STOP: TOTAL NO. of ITERATIONS REACHED LIMIT.\n",
      "\n",
      "Increase the number of iterations (max_iter) or scale the data as shown in:\n",
      "    https://scikit-learn.org/stable/modules/preprocessing.html\n",
      "Please also refer to the documentation for alternative solver options:\n",
      "    https://scikit-learn.org/stable/modules/linear_model.html#logistic-regression\n",
      "  n_iter_i = _check_optimize_result(\n"
     ]
    }
   ],
   "source": [
    "# построим модель с параметрами\n",
    "model = LogisticRegression(penalty='l2', C=2.7825594022071245, max_iter=600)\n",
    "model.fit(X_train, y_train)\n",
    "\n",
    "probs = model.predict_proba(X_test)\n",
    "probs = probs[:, 1]\n",
    "\n",
    "\n",
    "fpr, tpr, threshold = roc_curve(y_test, probs)\n",
    "roc_auc = roc_auc_score(y_test, probs)\n"
   ]
  },
  {
   "cell_type": "markdown",
   "metadata": {},
   "source": [
    "### Построение ROC AUC кривой"
   ]
  },
  {
   "cell_type": "code",
   "execution_count": 62,
   "metadata": {},
   "outputs": [
    {
     "data": {
      "image/png": "[encoded data removed]",
      "text/plain": [
       "<Figure size 432x288 with 1 Axes>"
      ]
     },
     "metadata": {
      "needs_background": "light"
     },
     "output_type": "display_data"
    }
   ],
   "source": [
    "plt.figure()\n",
    "plt.plot([0, 1], label='Baseline', linestyle='--')\n",
    "plt.plot(fpr, tpr, label='Regression')\n",
    "plt.title('Logistic Regression ROC AUC = %0.3f' % roc_auc)\n",
    "plt.ylabel('True Positive Rate')\n",
    "plt.xlabel('False Positive Rate')\n",
    "plt.legend(loc='lower right')\n",
    "plt.show()"
   ]
  },
  {
   "cell_type": "markdown",
   "metadata": {},
   "source": [
    "### Построение confusion_matrix, расчет f1_score, accuracy"
   ]
  },
  {
   "cell_type": "code",
   "execution_count": 63,
   "metadata": {
    "scrolled": true
   },
   "outputs": [
    {
     "data": {
      "text/plain": [
       "array([0.2339673 , 0.18031876, 0.06368382, ..., 0.08867865, 0.11842367,\n",
       "       0.05229399])"
      ]
     },
     "execution_count": 63,
     "metadata": {},
     "output_type": "execute_result"
    }
   ],
   "source": [
    "probs"
   ]
  },
  {
   "cell_type": "code",
   "execution_count": 64,
   "metadata": {},
   "outputs": [],
   "source": [
    "# подбор границы между 0 и 1, чтобы отнести полученный default к 0 или 1,\n",
    "# где значение f1 score максимальное\n",
    "b = 0.17\n",
    "s = 0.5-b\n",
    "probs2 = probs+s"
   ]
  },
  {
   "cell_type": "code",
   "execution_count": 65,
   "metadata": {},
   "outputs": [],
   "source": [
    "# превращение данных в бинарные для расчета матрицы ошибок\n",
    "probs1 = np.around(probs2, decimals=0)"
   ]
  },
  {
   "cell_type": "code",
   "execution_count": 66,
   "metadata": {},
   "outputs": [
    {
     "name": "stdout",
     "output_type": "stream",
     "text": [
      "[[10251  2682]\n",
      " [  861   966]]\n"
     ]
    }
   ],
   "source": [
    "print(confusion_matrix(y_test, probs1))"
   ]
  },
  {
   "cell_type": "code",
   "execution_count": 67,
   "metadata": {},
   "outputs": [
    {
     "data": {
      "text/plain": [
       "0.3528767123287671"
      ]
     },
     "execution_count": 67,
     "metadata": {},
     "output_type": "execute_result"
    }
   ],
   "source": [
    "f1_score(y_test, probs1)"
   ]
  },
  {
   "cell_type": "code",
   "execution_count": 68,
   "metadata": {},
   "outputs": [
    {
     "data": {
      "text/plain": [
       "0.759959349593496"
      ]
     },
     "execution_count": 68,
     "metadata": {},
     "output_type": "execute_result"
    }
   ],
   "source": [
    "accuracy_score(y_test, probs1)"
   ]
  },
  {
   "cell_type": "raw",
   "metadata": {},
   "source": [
    "методом подбора получилось пограничное значение 0.17, при котором f1_score = 0.35, а accuracy_score = 0.76"
   ]
  },
  {
   "cell_type": "markdown",
   "metadata": {},
   "source": [
    "### Итоговый submission"
   ]
  },
  {
   "cell_type": "code",
   "execution_count": 69,
   "metadata": {},
   "outputs": [
    {
     "data": {
      "text/plain": [
       "array([0.04676825, 0.33251553, 0.06587993, ..., 0.22065312, 0.20122806,\n",
       "       0.19655362])"
      ]
     },
     "execution_count": 69,
     "metadata": {},
     "output_type": "execute_result"
    }
   ],
   "source": [
    "probs_subm = model.predict_proba(X1)\n",
    "probs_subm = probs_subm[:, 1]\n",
    "probs_subm"
   ]
  },
  {
   "cell_type": "code",
   "execution_count": 70,
   "metadata": {},
   "outputs": [
    {
     "data": {
      "text/html": [
       "<div>\n",
       "<style scoped>\n",
       "    .dataframe tbody tr th:only-of-type {\n",
       "        vertical-align: middle;\n",
       "    }\n",
       "\n",
       "    .dataframe tbody tr th {\n",
       "        vertical-align: top;\n",
       "    }\n",
       "\n",
       "    .dataframe thead th {\n",
       "        text-align: right;\n",
       "    }\n",
       "</style>\n",
       "<table border=\"1\" class=\"dataframe\">\n",
       "  <thead>\n",
       "    <tr style=\"text-align: right;\">\n",
       "      <th></th>\n",
       "      <th>client_id</th>\n",
       "    </tr>\n",
       "  </thead>\n",
       "  <tbody>\n",
       "    <tr>\n",
       "      <th>0</th>\n",
       "      <td>74835</td>\n",
       "    </tr>\n",
       "    <tr>\n",
       "      <th>1</th>\n",
       "      <td>17527</td>\n",
       "    </tr>\n",
       "    <tr>\n",
       "      <th>2</th>\n",
       "      <td>75683</td>\n",
       "    </tr>\n",
       "    <tr>\n",
       "      <th>3</th>\n",
       "      <td>26883</td>\n",
       "    </tr>\n",
       "    <tr>\n",
       "      <th>4</th>\n",
       "      <td>28862</td>\n",
       "    </tr>\n",
       "  </tbody>\n",
       "</table>\n",
       "</div>"
      ],
      "text/plain": [
       "   client_id\n",
       "0      74835\n",
       "1      17527\n",
       "2      75683\n",
       "3      26883\n",
       "4      28862"
      ]
     },
     "execution_count": 70,
     "metadata": {},
     "output_type": "execute_result"
    }
   ],
   "source": [
    "sample_submission = df_test[['client_id']].copy()\n",
    "sample_submission.head()"
   ]
  },
  {
   "cell_type": "code",
   "execution_count": 71,
   "metadata": {},
   "outputs": [],
   "source": [
    "l = len(probs_subm)\n",
    "for i in range(l):\n",
    "    sample_submission.loc[i, 'default'] = probs_subm[i]"
   ]
  },
  {
   "cell_type": "code",
   "execution_count": 72,
   "metadata": {},
   "outputs": [
    {
     "data": {
      "text/html": [
       "<div>\n",
       "<style scoped>\n",
       "    .dataframe tbody tr th:only-of-type {\n",
       "        vertical-align: middle;\n",
       "    }\n",
       "\n",
       "    .dataframe tbody tr th {\n",
       "        vertical-align: top;\n",
       "    }\n",
       "\n",
       "    .dataframe thead th {\n",
       "        text-align: right;\n",
       "    }\n",
       "</style>\n",
       "<table border=\"1\" class=\"dataframe\">\n",
       "  <thead>\n",
       "    <tr style=\"text-align: right;\">\n",
       "      <th></th>\n",
       "      <th>client_id</th>\n",
       "      <th>default</th>\n",
       "    </tr>\n",
       "  </thead>\n",
       "  <tbody>\n",
       "    <tr>\n",
       "      <th>0</th>\n",
       "      <td>74835</td>\n",
       "      <td>0.046768</td>\n",
       "    </tr>\n",
       "    <tr>\n",
       "      <th>1</th>\n",
       "      <td>17527</td>\n",
       "      <td>0.332516</td>\n",
       "    </tr>\n",
       "    <tr>\n",
       "      <th>2</th>\n",
       "      <td>75683</td>\n",
       "      <td>0.065880</td>\n",
       "    </tr>\n",
       "    <tr>\n",
       "      <th>3</th>\n",
       "      <td>26883</td>\n",
       "      <td>0.088637</td>\n",
       "    </tr>\n",
       "    <tr>\n",
       "      <th>4</th>\n",
       "      <td>28862</td>\n",
       "      <td>0.026836</td>\n",
       "    </tr>\n",
       "  </tbody>\n",
       "</table>\n",
       "</div>"
      ],
      "text/plain": [
       "   client_id   default\n",
       "0      74835  0.046768\n",
       "1      17527  0.332516\n",
       "2      75683  0.065880\n",
       "3      26883  0.088637\n",
       "4      28862  0.026836"
      ]
     },
     "execution_count": 72,
     "metadata": {},
     "output_type": "execute_result"
    }
   ],
   "source": [
    "sample_submission.head()"
   ]
  },
  {
   "cell_type": "code",
   "execution_count": 73,
   "metadata": {},
   "outputs": [],
   "source": [
    "sample_submission.to_csv('sample_submission.csv', index=False)"
   ]
  },
  {
   "cell_type": "code",
   "execution_count": 74,
   "metadata": {},
   "outputs": [
    {
     "data": {
      "text/plain": [
       "(36349, 2)"
      ]
     },
     "execution_count": 74,
     "metadata": {},
     "output_type": "execute_result"
    }
   ],
   "source": [
    "sample_submission.shape"
   ]
  }
 ],
 "metadata": {
  "kernelspec": {
   "display_name": "Python 3",
   "language": "python",
   "name": "python3"
  },
  "language_info": {
   "codemirror_mode": {
    "name": "ipython",
    "version": 3
   },
   "file_extension": ".py",
   "mimetype": "text/x-python",
   "name": "python",
   "nbconvert_exporter": "python",
   "pygments_lexer": "ipython3",
   "version": "3.8.5"
  }
 },
 "nbformat": 4,
 "nbformat_minor": 4
}
